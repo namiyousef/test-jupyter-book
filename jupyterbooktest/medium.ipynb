{
 "cells": [
  {
   "cell_type": "markdown",
   "id": "fa2bf4e8",
   "metadata": {},
   "source": [
    "# This article was written on Jupyter Notebook\n",
    "## A brief introduction to jupyter-book and jupyter_to_medium"
   ]
  },
  {
   "cell_type": "markdown",
   "id": "a7e11abd",
   "metadata": {},
   "source": [
    "For the longest time, I've kept notes locally on Apple Pages. To that end, I have no complaints. Pages is an amazing piece of software that allows you to quickly produce high quality documents (with really great diagrams and tables) in a fraction of the time it would take on Overleaf, Word or Google Docs.\n",
    "\n",
    "However, there have been a couple of things that have always annoyed me about it:\n",
    "- Versionining is not possible\n",
    "- The documents cannot be easily shared\n",
    "- Documenting code is really hard\n",
    "\n",
    "These aren't unique to Pages either. Word, Docs and Overleaf suffer from the same problems for the most part. None of these tools are great for continuously updating shared notes, creating documentation or incorporating code.\n",
    "\n",
    "The good news is that I've recently learnt how to use two new Python libraries that are going to help me greatly accelerate my notetaking and article writing. These are `jupyter-book` and `jupyter_to_medium`.\n",
    "\n",
    "In this article (which I happen to be writing on a Jupyter Notebook!) I will explain how you can use both tools to accelerate notetaking and writing articles."
   ]
  },
  {
   "cell_type": "markdown",
   "id": "5edbea37",
   "metadata": {},
   "source": [
    "## What is `jupyter_to_medium`?\n",
    "\n",
    "`jupyter_to_medium` is a Python package that allows you to directly deploy your Jupyter Notebook articles to Medium. This is useful if you typically base most of your articles on content from Jupyter Notebooks. I've been curious about this package for a while, but I've only just gotten round to experimenting with it... let's see what it can do! If things go well I may strongly consider using it as the main source of my articles.\n",
    "\n",
    "### Installation"
   ]
  },
  {
   "cell_type": "code",
   "execution_count": 15,
   "id": "1eb62998",
   "metadata": {},
   "outputs": [],
   "source": [
    "%%capture\n",
    "\n",
    "# install jupyter_to_medium\n",
    "!pip install jupyter_to_medium"
   ]
  },
  {
   "cell_type": "markdown",
   "id": "d5eb5308",
   "metadata": {},
   "source": [
    "For most people, doing this should give you access to a 'deploy' button under File within your Jupyter notebook.\n",
    "\n",
    "If not (like in my case) then you need to run `jupyter bundlerextension enable --py jupyter_to_medium._bundler --sys-prefix`.\n"
   ]
  }
 ],
 "metadata": {
  "kernelspec": {
   "display_name": "Python 3",
   "language": "python",
   "name": "python3"
  },
  "language_info": {
   "codemirror_mode": {
    "name": "ipython",
    "version": 3
   },
   "file_extension": ".py",
   "mimetype": "text/x-python",
   "name": "python",
   "nbconvert_exporter": "python",
   "pygments_lexer": "ipython3",
   "version": "3.7.6"
  }
 },
 "nbformat": 4,
 "nbformat_minor": 5
}
